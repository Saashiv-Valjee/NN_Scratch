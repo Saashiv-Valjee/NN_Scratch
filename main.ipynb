{
 "cells": [
  {
   "cell_type": "code",
   "execution_count": null,
   "id": "d3d3db2a",
   "metadata": {},
   "outputs": [],
   "source": [
    "import numpy as np\n",
    "from NN import NeuralNet"
   ]
  },
  {
   "cell_type": "code",
   "execution_count": null,
   "id": "43f00f73",
   "metadata": {},
   "outputs": [],
   "source": [
    "# Generate dummy data (e.g., 4 input features, 100 samples)\n",
    "np.random.seed(0)\n",
    "X = np.random.randn(4, 100)\n",
    "# 4 rows, 100 columns \n",
    "\n",
    "#    event data ... n=100\n",
    "# E1 ...\n",
    "# E2 ...\n",
    "# E3 ...\n",
    "# E4 ...\n",
    "\n",
    "# if the sum of features is > 0, set Y to 1\n",
    "y = (np.sum(X, axis=0, keepdims=True) > 0).astype(float)\n"
   ]
  },
  {
   "cell_type": "code",
   "execution_count": null,
   "id": "006a72cf",
   "metadata": {},
   "outputs": [
    {
     "name": "stdout",
     "output_type": "stream",
     "text": [
      "(4, 100)\n"
     ]
    }
   ],
   "source": [
    "print(X.shape)"
   ]
  },
  {
   "cell_type": "code",
   "execution_count": null,
   "id": "69a32ce5",
   "metadata": {},
   "outputs": [
    {
     "name": "stdout",
     "output_type": "stream",
     "text": [
      "Epoch 0 | Loss: 0.6931\n",
      "Epoch 100 | Loss: 0.6661\n",
      "Epoch 200 | Loss: 0.1981\n",
      "Epoch 300 | Loss: 0.0907\n",
      "Epoch 400 | Loss: 0.0637\n",
      "Epoch 500 | Loss: 0.0509\n",
      "Epoch 600 | Loss: 0.0432\n",
      "Epoch 700 | Loss: 0.0378\n",
      "Epoch 800 | Loss: 0.0338\n",
      "Epoch 900 | Loss: 0.0306\n"
     ]
    }
   ],
   "source": [
    "# Initialize network\n",
    "model = NeuralNet(input_size=4, hidden_size=10)\n",
    "\n",
    "# Training loop\n",
    "epochs = 1000\n",
    "for epoch in range(epochs):\n",
    "    # get all predictions / outputs from the final activation\n",
    "    y_pred = model.forward(X)\n",
    "\n",
    "    # get loss on all predictions / outputs from the final activation vs y labels\n",
    "    loss = model.loss(y)\n",
    "\n",
    "    # propgate back the actual classes, y_pred is already within the model\n",
    "    # find the direction to modify the weights suck that they minimize the loss\n",
    "    # the behaviour of the loss is also within the function\n",
    "    model.back_prop(X, y, learning_rate=0.1)\n",
    "\n",
    "    # output metrics\n",
    "    if epoch % 100 == 0:\n",
    "        print(f\"Epoch {epoch} | Loss: {loss:.4f}\")\n"
   ]
  }
 ],
 "metadata": {
  "kernelspec": {
   "display_name": "base",
   "language": "python",
   "name": "python3"
  },
  "language_info": {
   "codemirror_mode": {
    "name": "ipython",
    "version": 3
   },
   "file_extension": ".py",
   "mimetype": "text/x-python",
   "name": "python",
   "nbconvert_exporter": "python",
   "pygments_lexer": "ipython3",
   "version": "3.12.7"
  }
 },
 "nbformat": 4,
 "nbformat_minor": 5
}
