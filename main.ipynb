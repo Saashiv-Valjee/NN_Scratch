{
 "cells": [
  {
   "cell_type": "code",
   "execution_count": 21,
   "id": "d3d3db2a",
   "metadata": {},
   "outputs": [],
   "source": [
    "import numpy as np\n",
    "import matplotlib.pyplot as plt\n",
    "import seaborn as sns\n",
    "from matplotlib.animation import FuncAnimation\n",
    "from NN import NeuralNet"
   ]
  },
  {
   "cell_type": "markdown",
   "id": "b2896aed",
   "metadata": {},
   "source": [
    "this shows how strongly a neuron connects to an input feature via the evolution of W1\n",
    "\n",
    "and whether a neuron fired during the classification of a training sample. Neurons pick up on patterns so one that fires across most samples may have learneda dominant feature. (cross refernce the 2 figures to confirm!)"
   ]
  },
  {
   "cell_type": "code",
   "execution_count": 23,
   "id": "a5c9bd6c",
   "metadata": {},
   "outputs": [
    {
     "ename": "TypeError",
     "evalue": "cannot unpack non-iterable NoneType object",
     "output_type": "error",
     "traceback": [
      "\u001b[0;31m---------------------------------------------------------------------------\u001b[0m",
      "\u001b[0;31mTypeError\u001b[0m                                 Traceback (most recent call last)",
      "Cell \u001b[0;32mIn[23], line 17\u001b[0m\n\u001b[1;32m     15\u001b[0m y_pred \u001b[38;5;241m=\u001b[39m model\u001b[38;5;241m.\u001b[39mforward(X)\n\u001b[1;32m     16\u001b[0m loss \u001b[38;5;241m=\u001b[39m model\u001b[38;5;241m.\u001b[39mloss(y)\n\u001b[0;32m---> 17\u001b[0m weights, grads \u001b[38;5;241m=\u001b[39m model\u001b[38;5;241m.\u001b[39mback_prop(X, y, learning_rate)\n\u001b[1;32m     18\u001b[0m weights_over_time\u001b[38;5;241m.\u001b[39mappend(weights)\n\u001b[1;32m     19\u001b[0m grads_over_time\u001b[38;5;241m.\u001b[39mappend(grads)\n",
      "\u001b[0;31mTypeError\u001b[0m: cannot unpack non-iterable NoneType object"
     ]
    }
   ],
   "source": [
    "# Generate dummy data\n",
    "np.random.seed(42)\n",
    "X = np.random.randn(4, 100)\n",
    "y = (np.sum(X, axis=0, keepdims=True) > 0).astype(float)\n",
    "\n",
    "# Train and record weights/gradients\n",
    "model = NeuralNet(input_size=4, hidden_size=10)\n",
    "epochs = 100\n",
    "learning_rate = 0.025\n",
    "weights_over_time = []\n",
    "grads_over_time = []\n",
    "losses = []\n",
    "\n",
    "for _ in range(epochs):\n",
    "    y_pred = model.forward(X)\n",
    "    loss = model.loss(y)\n",
    "    weights, grads = model.back_prop(X, y, learning_rate)\n",
    "    weights_over_time.append(weights)\n",
    "    grads_over_time.append(grads)\n",
    "    losses.append(loss)\n",
    "\n",
    "# PCA projection\n",
    "pca_weights = PCA(n_components=2).fit_transform(weights_over_time)\n",
    "pca_grads = PCA(n_components=2).fit_transform(grads_over_time)\n",
    "\n",
    "(pca_weights, pca_grads, losses)"
   ]
  }
 ],
 "metadata": {
  "kernelspec": {
   "display_name": "base",
   "language": "python",
   "name": "python3"
  },
  "language_info": {
   "codemirror_mode": {
    "name": "ipython",
    "version": 3
   },
   "file_extension": ".py",
   "mimetype": "text/x-python",
   "name": "python",
   "nbconvert_exporter": "python",
   "pygments_lexer": "ipython3",
   "version": "3.12.7"
  }
 },
 "nbformat": 4,
 "nbformat_minor": 5
}
